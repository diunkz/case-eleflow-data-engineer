{
 "cells": [
  {
   "cell_type": "markdown",
   "id": "10c83b94",
   "metadata": {},
   "source": [
    "# Data engineering capstone - Eleflow"
   ]
  },
  {
   "cell_type": "markdown",
   "id": "0016c205",
   "metadata": {},
   "source": [
    "#### Instalando dependências"
   ]
  },
  {
   "cell_type": "code",
   "execution_count": 33,
   "id": "be605d48",
   "metadata": {
    "scrolled": true
   },
   "outputs": [
    {
     "name": "stdout",
     "output_type": "stream",
     "text": [
      "Requirement already satisfied: pandas in ./venv/lib/python3.11/site-packages (2.1.1)\n",
      "Requirement already satisfied: requests in ./venv/lib/python3.11/site-packages (2.31.0)\n",
      "Requirement already satisfied: pendulum in ./venv/lib/python3.11/site-packages (2.1.2)\n",
      "Requirement already satisfied: pandasql in ./venv/lib/python3.11/site-packages (0.7.3)\n",
      "Requirement already satisfied: numpy>=1.23.2 in ./venv/lib/python3.11/site-packages (from pandas) (1.26.1)\n",
      "Requirement already satisfied: python-dateutil>=2.8.2 in ./venv/lib/python3.11/site-packages (from pandas) (2.8.2)\n",
      "Requirement already satisfied: pytz>=2020.1 in ./venv/lib/python3.11/site-packages (from pandas) (2023.3.post1)\n",
      "Requirement already satisfied: tzdata>=2022.1 in ./venv/lib/python3.11/site-packages (from pandas) (2023.3)\n",
      "Requirement already satisfied: charset-normalizer<4,>=2 in ./venv/lib/python3.11/site-packages (from requests) (3.3.1)\n",
      "Requirement already satisfied: idna<4,>=2.5 in ./venv/lib/python3.11/site-packages (from requests) (3.4)\n",
      "Requirement already satisfied: urllib3<3,>=1.21.1 in ./venv/lib/python3.11/site-packages (from requests) (2.0.7)\n",
      "Requirement already satisfied: certifi>=2017.4.17 in ./venv/lib/python3.11/site-packages (from requests) (2023.7.22)\n",
      "Requirement already satisfied: pytzdata>=2020.1 in ./venv/lib/python3.11/site-packages (from pendulum) (2020.1)\n",
      "Requirement already satisfied: sqlalchemy in ./venv/lib/python3.11/site-packages (from pandasql) (2.0.22)\n",
      "Requirement already satisfied: six>=1.5 in ./venv/lib/python3.11/site-packages (from python-dateutil>=2.8.2->pandas) (1.16.0)\n",
      "Requirement already satisfied: typing-extensions>=4.2.0 in ./venv/lib/python3.11/site-packages (from sqlalchemy->pandasql) (4.8.0)\n",
      "Requirement already satisfied: greenlet!=0.4.17 in ./venv/lib/python3.11/site-packages (from sqlalchemy->pandasql) (3.0.1)\n"
     ]
    }
   ],
   "source": [
    "!pip install pandas requests pendulum pandasql"
   ]
  },
  {
   "cell_type": "markdown",
   "id": "2a26ef75",
   "metadata": {},
   "source": [
    "#### imports necessários"
   ]
  },
  {
   "cell_type": "code",
   "execution_count": 108,
   "id": "0cc3f223",
   "metadata": {},
   "outputs": [],
   "source": [
    "import os\n",
    "import json\n",
    "import pendulum\n",
    "import requests\n",
    "import pandas as pd\n",
    "from pandasql import sqldf\n",
    "import sqlite3"
   ]
  },
  {
   "cell_type": "markdown",
   "id": "c4499327",
   "metadata": {},
   "source": [
    "## Carregar os dados de VRA\n",
    "- Normalizar o cabeçalho para snake case\n",
    "- Salvar estes dados"
   ]
  },
  {
   "cell_type": "code",
   "execution_count": 3,
   "id": "afb11ebd",
   "metadata": {},
   "outputs": [],
   "source": [
    "# Função para percorrer o diretório, pegar todos os arquivos e carregar as informações\n",
    "def ler_jsons(diretorio):\n",
    "    arquivos_json = [arquivo for arquivo in os.listdir(diretorio) if arquivo.endswith('.json')]\n",
    "\n",
    "    for nome_arquivo in arquivos_json:\n",
    "        caminho_arquivo = os.path.join(diretorio, nome_arquivo)\n",
    "        with open(caminho_arquivo, 'r', encoding='utf-8-sig') as arquivo:\n",
    "            yield json.load(arquivo)"
   ]
  },
  {
   "cell_type": "code",
   "execution_count": 4,
   "id": "46cb1d0d",
   "metadata": {},
   "outputs": [],
   "source": [
    "# Nome das colunas em snake_case\n",
    "nomes_colunas_vra = ['icao_empresa_aerea', 'numero_voo', 'codigo_autorizacao', 'codigo_tipo_linha',\n",
    "                     'icao_aerodromo_origem', 'icao_aerodromo_destino', 'partida_prevista',\n",
    "                     'partida_real', 'chegada_prevista', 'chegada_real', 'situacao_voo', 'codigo_justificativa']\n"
   ]
  },
  {
   "cell_type": "code",
   "execution_count": 5,
   "id": "1b8d689c",
   "metadata": {},
   "outputs": [],
   "source": [
    "# Diretório onde estão os arquivos JSON\n",
    "diretorio_vra = './data_engineer_test/VRA'"
   ]
  },
  {
   "cell_type": "code",
   "execution_count": 7,
   "id": "13750aa4",
   "metadata": {},
   "outputs": [],
   "source": [
    "# Criar um gerador\n",
    "vra_generator = ler_jsons(diretorio_vra)"
   ]
  },
  {
   "cell_type": "code",
   "execution_count": 8,
   "id": "92f16b1e",
   "metadata": {},
   "outputs": [],
   "source": [
    "# Criação do dataframe com os dados de vra\n",
    "vra_df = pd.DataFrame()"
   ]
  },
  {
   "cell_type": "code",
   "execution_count": 9,
   "id": "f3e4c741",
   "metadata": {},
   "outputs": [],
   "source": [
    "# Adicionando informações de cada arquivo JSON no dataframe\n",
    "for lista_de_dicts in vra_generator:\n",
    "    vra_df = vra_df._append(lista_de_dicts, ignore_index=True)"
   ]
  },
  {
   "cell_type": "code",
   "execution_count": 10,
   "id": "fb83e878",
   "metadata": {},
   "outputs": [],
   "source": [
    "# Modificando nome das colunas do dataframe VRA\n",
    "vra_df.columns = nomes_colunas_vra"
   ]
  },
  {
   "cell_type": "code",
   "execution_count": 11,
   "id": "0bc4931e",
   "metadata": {},
   "outputs": [
    {
     "name": "stdout",
     "output_type": "stream",
     "text": [
      "       icao_empresa_aerea numero_voo codigo_autorizacao codigo_tipo_linha  \\\n",
      "0                     AZU       4478                  0                 N   \n",
      "1                     AZU       4479                  0                 N   \n",
      "2                     AZU       4479                  0                 N   \n",
      "3                     AZU       4479                  0                 N   \n",
      "4                     AZU       4479                  0                 N   \n",
      "...                   ...        ...                ...               ...   \n",
      "535798                PVV       8653                  9                 X   \n",
      "535799                PVV       8752                  9                 X   \n",
      "535800                PVV       8752                  9                 X   \n",
      "535801                PVV       8752                  2                 I   \n",
      "535802                PVG       9831                  9                 X   \n",
      "\n",
      "       icao_aerodromo_origem icao_aerodromo_destino     partida_prevista  \\\n",
      "0                       SBRJ                   SBGO  2021-06-30 22:15:00   \n",
      "1                       SBGO                   SBRJ  2021-06-07 06:20:00   \n",
      "2                       SBGO                   SBRJ  2021-06-08 06:20:00   \n",
      "3                       SBGO                   SBRJ  2021-06-09 06:20:00   \n",
      "4                       SBGO                   SBRJ  2021-06-10 06:20:00   \n",
      "...                      ...                    ...                  ...   \n",
      "535798                  SBGR                   DGAA  2021-08-29 04:00:00   \n",
      "535799                  VVNB                   VCBI  2021-08-30 13:00:00   \n",
      "535800                  VCBI                   OEJN  2021-08-31 15:00:00   \n",
      "535801                  GUCY                   SBEG  2021-09-02 02:00:00   \n",
      "535802                  LEMD                   SBGR  2021-08-11 12:00:00   \n",
      "\n",
      "               partida_real     chegada_prevista         chegada_real  \\\n",
      "0       2021-06-30 22:00:00  2021-06-30 23:55:00  2021-06-30 23:56:00   \n",
      "1       2021-06-07 06:14:00  2021-06-07 08:00:00  2021-06-07 07:47:00   \n",
      "2       2021-06-08 06:13:00  2021-06-08 08:00:00  2021-06-08 07:48:00   \n",
      "3       2021-06-09 06:10:00  2021-06-09 08:00:00  2021-06-09 07:55:00   \n",
      "4       2021-06-10 06:13:00  2021-06-10 08:00:00  2021-06-10 07:53:00   \n",
      "...                     ...                  ...                  ...   \n",
      "535798  2021-08-29 03:58:00  2021-08-29 11:00:00  2021-08-29 11:32:00   \n",
      "535799  2021-08-30 13:00:00  2021-08-30 18:00:00  2021-08-30 18:00:00   \n",
      "535800  2021-08-31 15:00:00  2021-08-31 20:00:00  2021-08-31 20:00:00   \n",
      "535801                 None  2021-09-02 09:00:00                 None   \n",
      "535802  2021-08-11 11:55:00  2021-08-11 22:00:00  2021-08-11 22:06:00   \n",
      "\n",
      "       situacao_voo codigo_justificativa  \n",
      "0         REALIZADO                  N/A  \n",
      "1         REALIZADO                  N/A  \n",
      "2         REALIZADO                  N/A  \n",
      "3         REALIZADO                  N/A  \n",
      "4         REALIZADO                  N/A  \n",
      "...             ...                  ...  \n",
      "535798    REALIZADO                  N/A  \n",
      "535799    REALIZADO                  N/A  \n",
      "535800    REALIZADO                  N/A  \n",
      "535801    CANCELADO                  N/A  \n",
      "535802    REALIZADO                  N/A  \n",
      "\n",
      "[535803 rows x 12 columns]\n"
     ]
    }
   ],
   "source": [
    "print(vra_df)"
   ]
  },
  {
   "cell_type": "code",
   "execution_count": 12,
   "id": "71c20dba",
   "metadata": {},
   "outputs": [],
   "source": [
    "vra_df.to_csv('./data_export/VRA/vra_data.csv', index=False)"
   ]
  },
  {
   "cell_type": "markdown",
   "id": "55158374",
   "metadata": {},
   "source": [
    "## Carregar dos dados de AIR_CIA\n",
    "- Normalizar o cabeçalho para snake case\n",
    "- Separar a coluna 'ICAO IATA' em duas colunas, seu conteúdo está separado por espaço e pode não conter o código IATA, caso não contenha o código IATA, deixe o valor nulo.\n",
    "- Salvar estes dados"
   ]
  },
  {
   "cell_type": "code",
   "execution_count": 13,
   "id": "7992f940",
   "metadata": {},
   "outputs": [],
   "source": [
    "# Diretório onde estão os arquivos CSV\n",
    "diretorio_air_cia = './data_engineer_test/AIR_CIA/'"
   ]
  },
  {
   "cell_type": "code",
   "execution_count": 14,
   "id": "cff1c02e",
   "metadata": {},
   "outputs": [],
   "source": [
    "# Normalizando as colunas para snake_case\n",
    "nomes_colunas_air_cia = ['razao_social', 'icao_iata', 'cnpj', 'atividades_aereas',\n",
    "                         'endereco_sede', 'telefone', 'email', 'decisao_operacional', \n",
    "                         'data_decisao_operacional', 'validade_operacional']"
   ]
  },
  {
   "cell_type": "code",
   "execution_count": 15,
   "id": "6de3fb64",
   "metadata": {},
   "outputs": [],
   "source": [
    "# Inicializa um DataFrame vazio para armazenar os dados\n",
    "df_air_cia = pd.DataFrame()"
   ]
  },
  {
   "cell_type": "code",
   "execution_count": 16,
   "id": "8be22d2b",
   "metadata": {},
   "outputs": [],
   "source": [
    "# Liste todos os arquivos CSV na pasta\n",
    "for filename in os.listdir(diretorio_air_cia):\n",
    "    if filename.endswith(\".csv\"):\n",
    "        # Crie o caminho completo para o arquivo\n",
    "        arquivo = os.path.join(diretorio_air_cia, filename)\n",
    "        \n",
    "        # Leia o arquivo CSV e adicione os dados ao DataFrame total\n",
    "        df = pd.read_csv(arquivo, sep=';')\n",
    "        df_air_cia = pd.concat([df_air_cia, df], ignore_index=True)"
   ]
  },
  {
   "cell_type": "code",
   "execution_count": 17,
   "id": "ee689ad8",
   "metadata": {},
   "outputs": [],
   "source": [
    "# Modificando nome das colunas do dataframe AIR_CIA\n",
    "df_air_cia.columns = nomes_colunas_air_cia\n"
   ]
  },
  {
   "cell_type": "code",
   "execution_count": 18,
   "id": "c3bfd4fe",
   "metadata": {},
   "outputs": [],
   "source": [
    "# separando os valores pelo espaço em icao_iata e colocando nas novas colunas: icao e iata\n",
    "df_air_cia[['icao', 'iata']] = df_air_cia['icao_iata'].str.split(n=1, expand=True)"
   ]
  },
  {
   "cell_type": "code",
   "execution_count": 19,
   "id": "275bec21",
   "metadata": {},
   "outputs": [],
   "source": [
    "# Removendo icao_iata e deixando as novas colunas na mesma posição que ela estava \n",
    "posicao_icao_iata = nomes_colunas_air_cia.index('icao_iata')\n",
    "nomes_colunas_air_cia.pop(posicao_icao_iata)\n",
    "nomes_colunas_air_cia.insert(posicao_icao_iata, 'icao')\n",
    "nomes_colunas_air_cia.insert(posicao_icao_iata + 1, 'iata')\n",
    "df_air_cia = df_air_cia[nomes_colunas_air_cia]"
   ]
  },
  {
   "cell_type": "code",
   "execution_count": 20,
   "id": "1a62cd2c",
   "metadata": {},
   "outputs": [
    {
     "name": "stdout",
     "output_type": "stream",
     "text": [
      "                                        razao_social icao  iata  \\\n",
      "0  AEROSUL TÁXI AÉREO LTDA (EX.: AUSTEN TÁXI AÉRE...  ASO    2S   \n",
      "1                        ATA - AEROTÁXI ABAETÉ LTDA.  ABJ  None   \n",
      "2                               OMNI TÁXI AÉREO S.A.  OMI    O1   \n",
      "3                                PRIME TÁXI AIR LTDA  NaN   NaN   \n",
      "4                        SIDERAL LINHAS AÉREAS LTDA.  SID    0S   \n",
      "\n",
      "                 cnpj                                  atividades_aereas  \\\n",
      "0  27.315.694/0001-02  SERVIÇOS AÉREOS PÚBLICOS, TÁXI-AÉREO, TRANSPOR...   \n",
      "1  14.674.451/0001-19  TÁXI-AÉREO, TRANSPORTE AÉREO NÃO REGULAR, TRAN...   \n",
      "2  03.670.763/0001-38  AEROFOTOGRAFIA, AEROINSPEÇÃO, SERVIÇOS AÉREOS ...   \n",
      "3  23.568.370/0001-25  TÁXI-AÉREO, TRANSPORTE AÉREO NÃO REGULAR, SERV...   \n",
      "4  10.919.908/0001-57  TRANSPORTE AÉREO NÃO REGULAR, TRANSPORTE AÉREO...   \n",
      "\n",
      "                                       endereco_sede  \\\n",
      "0  RODOVIA PR 218, KM 7, JARDIM UNIVERSITÁRIO, AE...   \n",
      "1   PÇA. GAGO COUTINHO, S/N, AEROPORTO INTERNACIO...   \n",
      "2  AV. AYRTON SENNA, 2541 RUA F1 LOTE 40 - AEROPO...   \n",
      "3  AL. RIO NEGRO, 585 - BLOCO A - CJ.95 - SALA E,...   \n",
      "4  RODOVIA CONTORNO LESTE BR-116, Nº 9.119, 3º AN...   \n",
      "\n",
      "                          telefone                                email  \\\n",
      "0                   (43) 3176-4030             operacoes@aerosul.com.br   \n",
      "1   (71) 34629600 / (71) 996643563         guilherme@abaete.com.br        \n",
      "2                  (61) 98335-3444           lira@plfconsultoria.com.br   \n",
      "3    (11) 41958307 / (11) 41958308      mmatta@primefractionclub.com.br   \n",
      "4  (41) 3116-9000 / (41) 3116-9059  office@siderallinhasaereas.com.br     \n",
      "\n",
      "  decisao_operacional data_decisao_operacional validade_operacional  \n",
      "0      DECISÃO Nº 282               10/02/2021                  NaN  \n",
      "1       DECISÃO Nº 36               05/03/2020                  NaN  \n",
      "2      DECISÃO Nº 100               10/07/2019           12/07/2024  \n",
      "3      DECISÃO Nº 237               17/12/2020           18/12/2025  \n",
      "4       DECISÃO Nº 37               05/03/2020           06/03/2025  \n",
      "(20, 11)\n"
     ]
    }
   ],
   "source": [
    "print(df_air_cia.head(5))\n",
    "print(df_air_cia.shape)"
   ]
  },
  {
   "cell_type": "code",
   "execution_count": 21,
   "id": "dd88bd9a",
   "metadata": {},
   "outputs": [],
   "source": [
    "df_air_cia = df_air_cia.drop_duplicates()\n",
    "\n",
    "df_air_cia.to_csv('./data_export/AIR_CIA/air_cia_data.csv', index=False)"
   ]
  },
  {
   "cell_type": "code",
   "execution_count": 32,
   "id": "8db3ace1",
   "metadata": {},
   "outputs": [
    {
     "data": {
      "text/plain": [
       "Index(['razao_social', 'icao', 'iata', 'cnpj', 'atividades_aereas',\n",
       "       'endereco_sede', 'telefone', 'email', 'decisao_operacional',\n",
       "       'data_decisao_operacional', 'validade_operacional'],\n",
       "      dtype='object')"
      ]
     },
     "execution_count": 32,
     "metadata": {},
     "output_type": "execute_result"
    }
   ],
   "source": [
    "df_air_cia.columns"
   ]
  },
  {
   "cell_type": "markdown",
   "id": "798fb181",
   "metadata": {},
   "source": [
    "## Criar nova tabela aerodromos\n",
    "- Através da API https://rapidapi.com/Active-api/api/airport-info/ trazer os aeródramos através do código ICAO presente nos dados de VRA.\n",
    "- Salvar estes dados\n"
   ]
  },
  {
   "cell_type": "code",
   "execution_count": 22,
   "id": "072f334f",
   "metadata": {},
   "outputs": [],
   "source": [
    "# Definindo URL e headers para utilizar a API\n",
    "url = 'https://airport-info.p.rapidapi.com/airport'\n",
    "\n",
    "query_string = {\"icao\":\"value\"}\n",
    "\n",
    "headers = {\n",
    "\t\"X-RapidAPI-Key\": \"a593951eafmsh253dc4c7ca30e1cp1eec96jsnaef5fd9a9c11\",\n",
    "\t\"X-RapidAPI-Host\": \"airport-info.p.rapidapi.com\"\n",
    "}"
   ]
  },
  {
   "cell_type": "code",
   "execution_count": 23,
   "id": "b9009e43",
   "metadata": {},
   "outputs": [],
   "source": [
    "# Coletando os ICAO únicos\n",
    "icao_unicos = pd.concat([vra_df['icao_aerodromo_origem'], vra_df['icao_aerodromo_destino']]).unique()"
   ]
  },
  {
   "cell_type": "code",
   "execution_count": 24,
   "id": "57106f42",
   "metadata": {},
   "outputs": [
    {
     "data": {
      "text/plain": [
       "315"
      ]
     },
     "execution_count": 24,
     "metadata": {},
     "output_type": "execute_result"
    }
   ],
   "source": [
    "len(icao_unicos)"
   ]
  },
  {
   "cell_type": "code",
   "execution_count": 27,
   "id": "98bef6f6",
   "metadata": {},
   "outputs": [],
   "source": [
    "aerodromos_df = pd.DataFrame([])"
   ]
  },
  {
   "cell_type": "code",
   "execution_count": 29,
   "id": "ee8422e5",
   "metadata": {},
   "outputs": [],
   "source": [
    "for icao in icao_unicos:\n",
    "    query_string['icao'] = icao\n",
    "#     print(query_string['icao'])\n",
    "    response = requests.get(url, headers=headers, params=query_string)\n",
    "    \n",
    "    if response.status_code == 200:\n",
    "        if 'error' not in response.json():\n",
    "            temp_data = pd.DataFrame([response.json()])\n",
    "            aerodromos_df = pd.concat([aerodromos_df, temp_data], ignore_index=True)\n",
    "    # print(data)\n",
    "    # print()"
   ]
  },
  {
   "cell_type": "code",
   "execution_count": 31,
   "id": "68aa2033",
   "metadata": {},
   "outputs": [
    {
     "data": {
      "text/plain": [
       "Index(['id', 'iata', 'icao', 'name', 'location', 'street_number', 'street',\n",
       "       'city', 'county', 'state', 'country_iso', 'country', 'postal_code',\n",
       "       'phone', 'latitude', 'longitude', 'uct', 'website'],\n",
       "      dtype='object')"
      ]
     },
     "execution_count": 31,
     "metadata": {},
     "output_type": "execute_result"
    }
   ],
   "source": [
    "aerodromos_df.columns"
   ]
  },
  {
   "cell_type": "markdown",
   "id": "5158cc6e",
   "metadata": {},
   "source": [
    "## Criar as seguintes views (Priorize o uso de SQL para esta parte):\n",
    "Para cada companhia aérea trazer a rota mais utilizada com as seguintes informações:\n",
    "- Razão social da companhia aérea\n",
    "- Nome Aeroporto de Origem\n",
    "- ICAO do aeroporto de origem\n",
    "- Estado/UF do aeroporto de origem\n",
    "- Nome do Aeroporto de Destino\n",
    "- ICAO do Aeroporto de destino\n",
    "- Estado/UF do aeroporto de destino"
   ]
  },
  {
   "cell_type": "code",
   "execution_count": 150,
   "id": "5848cf0d",
   "metadata": {},
   "outputs": [],
   "source": [
    "query = \"\"\"\n",
    "        WITH CombinaçõesRankeadas AS (\n",
    "            SELECT\n",
    "                vra.icao_empresa_aerea,\n",
    "                vra.icao_aerodromo_origem,\n",
    "                vra.icao_aerodromo_destino,\n",
    "                COUNT(*) AS quantidade,\n",
    "                ROW_NUMBER() OVER (PARTITION BY vra.icao_empresa_aerea ORDER BY COUNT(*) DESC) AS rank\n",
    "            FROM vra_df vra\n",
    "            JOIN df_air_cia f ON vra.icao_empresa_aerea = f.icao\n",
    "            GROUP BY vra.icao_empresa_aerea, vra.icao_aerodromo_origem, vra.icao_aerodromo_destino\n",
    "        )\n",
    "        SELECT\n",
    "            icao_empresa_aerea,\n",
    "            icao_aerodromo_origem,\n",
    "            icao_aerodromo_destino,\n",
    "            quantidade\n",
    "        FROM CombinaçõesRankeadas\n",
    "        WHERE rank = 1;\n",
    "        \"\"\"\n",
    "\n",
    "rotas_mais_utilizadas = sqldf(query)\n"
   ]
  },
  {
   "cell_type": "code",
   "execution_count": 151,
   "id": "01dc211f",
   "metadata": {},
   "outputs": [
    {
     "data": {
      "text/html": [
       "<div>\n",
       "<style scoped>\n",
       "    .dataframe tbody tr th:only-of-type {\n",
       "        vertical-align: middle;\n",
       "    }\n",
       "\n",
       "    .dataframe tbody tr th {\n",
       "        vertical-align: top;\n",
       "    }\n",
       "\n",
       "    .dataframe thead th {\n",
       "        text-align: right;\n",
       "    }\n",
       "</style>\n",
       "<table border=\"1\" class=\"dataframe\">\n",
       "  <thead>\n",
       "    <tr style=\"text-align: right;\">\n",
       "      <th></th>\n",
       "      <th>icao_empresa_aerea</th>\n",
       "      <th>icao_aerodromo_origem</th>\n",
       "      <th>icao_aerodromo_destino</th>\n",
       "      <th>quantidade</th>\n",
       "    </tr>\n",
       "  </thead>\n",
       "  <tbody>\n",
       "    <tr>\n",
       "      <th>0</th>\n",
       "      <td>ACN</td>\n",
       "      <td>SWKO</td>\n",
       "      <td>SBEG</td>\n",
       "      <td>34</td>\n",
       "    </tr>\n",
       "    <tr>\n",
       "      <th>1</th>\n",
       "      <td>ASO</td>\n",
       "      <td>SBFL</td>\n",
       "      <td>SBCD</td>\n",
       "      <td>26</td>\n",
       "    </tr>\n",
       "    <tr>\n",
       "      <th>2</th>\n",
       "      <td>AZU</td>\n",
       "      <td>SBKP</td>\n",
       "      <td>SBRJ</td>\n",
       "      <td>2540</td>\n",
       "    </tr>\n",
       "    <tr>\n",
       "      <th>3</th>\n",
       "      <td>GLO</td>\n",
       "      <td>SBRJ</td>\n",
       "      <td>SBSP</td>\n",
       "      <td>2514</td>\n",
       "    </tr>\n",
       "    <tr>\n",
       "      <th>4</th>\n",
       "      <td>LTG</td>\n",
       "      <td>SEQM</td>\n",
       "      <td>KMIA</td>\n",
       "      <td>377</td>\n",
       "    </tr>\n",
       "    <tr>\n",
       "      <th>5</th>\n",
       "      <td>MWM</td>\n",
       "      <td>SBKP</td>\n",
       "      <td>SBBR</td>\n",
       "      <td>162</td>\n",
       "    </tr>\n",
       "    <tr>\n",
       "      <th>6</th>\n",
       "      <td>OMI</td>\n",
       "      <td>SBAR</td>\n",
       "      <td>SBGL</td>\n",
       "      <td>15</td>\n",
       "    </tr>\n",
       "    <tr>\n",
       "      <th>7</th>\n",
       "      <td>PAM</td>\n",
       "      <td>SBEG</td>\n",
       "      <td>SBUY</td>\n",
       "      <td>480</td>\n",
       "    </tr>\n",
       "    <tr>\n",
       "      <th>8</th>\n",
       "      <td>PTB</td>\n",
       "      <td>SBPS</td>\n",
       "      <td>SBSV</td>\n",
       "      <td>724</td>\n",
       "    </tr>\n",
       "    <tr>\n",
       "      <th>9</th>\n",
       "      <td>SID</td>\n",
       "      <td>SBGR</td>\n",
       "      <td>SBRF</td>\n",
       "      <td>752</td>\n",
       "    </tr>\n",
       "    <tr>\n",
       "      <th>10</th>\n",
       "      <td>SUL</td>\n",
       "      <td>SBCY</td>\n",
       "      <td>SWJN</td>\n",
       "      <td>61</td>\n",
       "    </tr>\n",
       "    <tr>\n",
       "      <th>11</th>\n",
       "      <td>TAM</td>\n",
       "      <td>SBSP</td>\n",
       "      <td>SBRJ</td>\n",
       "      <td>2744</td>\n",
       "    </tr>\n",
       "    <tr>\n",
       "      <th>12</th>\n",
       "      <td>TTL</td>\n",
       "      <td>SBCT</td>\n",
       "      <td>SBGR</td>\n",
       "      <td>231</td>\n",
       "    </tr>\n",
       "  </tbody>\n",
       "</table>\n",
       "</div>"
      ],
      "text/plain": [
       "   icao_empresa_aerea icao_aerodromo_origem icao_aerodromo_destino  quantidade\n",
       "0                 ACN                  SWKO                   SBEG          34\n",
       "1                 ASO                  SBFL                   SBCD          26\n",
       "2                 AZU                  SBKP                   SBRJ        2540\n",
       "3                 GLO                  SBRJ                   SBSP        2514\n",
       "4                 LTG                  SEQM                   KMIA         377\n",
       "5                 MWM                  SBKP                   SBBR         162\n",
       "6                 OMI                  SBAR                   SBGL          15\n",
       "7                 PAM                  SBEG                   SBUY         480\n",
       "8                 PTB                  SBPS                   SBSV         724\n",
       "9                 SID                  SBGR                   SBRF         752\n",
       "10                SUL                  SBCY                   SWJN          61\n",
       "11                TAM                  SBSP                   SBRJ        2744\n",
       "12                TTL                  SBCT                   SBGR         231"
      ]
     },
     "execution_count": 151,
     "metadata": {},
     "output_type": "execute_result"
    }
   ],
   "source": [
    "rotas_mais_utilizadas"
   ]
  },
  {
   "cell_type": "code",
   "execution_count": 153,
   "id": "03f55a41",
   "metadata": {},
   "outputs": [],
   "source": [
    "query = \"\"\"\n",
    "        SELECT DISTINCT\n",
    "            rc.icao_empresa_aerea,\n",
    "            ac.razao_social AS razao_social_companhia,\n",
    "            ad_origem.name AS nome_aeroporto_origem,\n",
    "            rc.icao_aerodromo_origem AS icao_origem,\n",
    "            ad_origem.county AS estado_origem,\n",
    "            ad_origem.state AS uf_origem,\n",
    "            ad_destino.name AS nome_aeroporto_destino,\n",
    "            rc.icao_aerodromo_destino AS icao_destino,\n",
    "            ad_destino.county AS estado_destino,\n",
    "            ad_destino.state AS uf_destino\n",
    "        FROM rotas_mais_utilizadas rc\n",
    "        JOIN df_air_cia ac ON rc.icao_empresa_aerea = ac.icao\n",
    "        JOIN aerodromos_df ad_origem ON rc.icao_aerodromo_origem = ad_origem.icao\n",
    "        JOIN aerodromos_df ad_destino ON rc.icao_aerodromo_destino = ad_destino.icao;\n",
    "        \"\"\"\n",
    "\n",
    "rotas_mais_utilizadas_info = sqldf(query)"
   ]
  },
  {
   "cell_type": "code",
   "execution_count": 155,
   "id": "40555cec",
   "metadata": {},
   "outputs": [
    {
     "data": {
      "text/html": [
       "<div>\n",
       "<style scoped>\n",
       "    .dataframe tbody tr th:only-of-type {\n",
       "        vertical-align: middle;\n",
       "    }\n",
       "\n",
       "    .dataframe tbody tr th {\n",
       "        vertical-align: top;\n",
       "    }\n",
       "\n",
       "    .dataframe thead th {\n",
       "        text-align: right;\n",
       "    }\n",
       "</style>\n",
       "<table border=\"1\" class=\"dataframe\">\n",
       "  <thead>\n",
       "    <tr style=\"text-align: right;\">\n",
       "      <th></th>\n",
       "      <th>icao_empresa_aerea</th>\n",
       "      <th>razao_social_companhia</th>\n",
       "      <th>nome_aeroporto_origem</th>\n",
       "      <th>icao_origem</th>\n",
       "      <th>estado_origem</th>\n",
       "      <th>uf_origem</th>\n",
       "      <th>nome_aeroporto_destino</th>\n",
       "      <th>icao_destino</th>\n",
       "      <th>estado_destino</th>\n",
       "      <th>uf_destino</th>\n",
       "    </tr>\n",
       "  </thead>\n",
       "  <tbody>\n",
       "    <tr>\n",
       "      <th>0</th>\n",
       "      <td>ACN</td>\n",
       "      <td>AZUL CONECTA LTDA. (EX TWO TAXI AEREO LTDA)</td>\n",
       "      <td>Coari Airport</td>\n",
       "      <td>SWKO</td>\n",
       "      <td>Coari</td>\n",
       "      <td>State of Amazonas</td>\n",
       "      <td>Eduardo Gomes International Airport</td>\n",
       "      <td>SBEG</td>\n",
       "      <td>Manaus</td>\n",
       "      <td>Amazonas</td>\n",
       "    </tr>\n",
       "    <tr>\n",
       "      <th>1</th>\n",
       "      <td>ASO</td>\n",
       "      <td>AEROSUL TÁXI AÉREO LTDA (EX.: AUSTEN TÁXI AÉRE...</td>\n",
       "      <td>Hercílio Luz International Airport</td>\n",
       "      <td>SBFL</td>\n",
       "      <td>Florianópolis</td>\n",
       "      <td>Santa Catarina</td>\n",
       "      <td>Caçador Airport</td>\n",
       "      <td>SBCD</td>\n",
       "      <td>Caçador</td>\n",
       "      <td>Santa Catarina</td>\n",
       "    </tr>\n",
       "    <tr>\n",
       "      <th>2</th>\n",
       "      <td>AZU</td>\n",
       "      <td>AZUL LINHAS AÉREAS BRASILEIRAS S/A</td>\n",
       "      <td>Viracopos/Campinas International Airport</td>\n",
       "      <td>SBKP</td>\n",
       "      <td>Campinas</td>\n",
       "      <td>São Paulo</td>\n",
       "      <td>Santos Dumont Airport</td>\n",
       "      <td>SBRJ</td>\n",
       "      <td>Rio de Janeiro</td>\n",
       "      <td>Rio de Janeiro</td>\n",
       "    </tr>\n",
       "    <tr>\n",
       "      <th>3</th>\n",
       "      <td>GLO</td>\n",
       "      <td>GOL LINHAS AÉREAS S.A. (EX- VRG LINHAS AÉREAS ...</td>\n",
       "      <td>Santos Dumont Airport</td>\n",
       "      <td>SBRJ</td>\n",
       "      <td>Rio de Janeiro</td>\n",
       "      <td>Rio de Janeiro</td>\n",
       "      <td>São Paulo–Congonhas Airport</td>\n",
       "      <td>SBSP</td>\n",
       "      <td>São Paulo</td>\n",
       "      <td>São Paulo</td>\n",
       "    </tr>\n",
       "    <tr>\n",
       "      <th>4</th>\n",
       "      <td>LTG</td>\n",
       "      <td>ABSA - AEROLINHAS BRASILEIRAS S.A.</td>\n",
       "      <td>Mariscal Sucre International Airport</td>\n",
       "      <td>SEQM</td>\n",
       "      <td>Distrito Metropolitano de Quito</td>\n",
       "      <td>Pichincha</td>\n",
       "      <td>Miami International Airport</td>\n",
       "      <td>KMIA</td>\n",
       "      <td>Miami-Dade County</td>\n",
       "      <td>Florida</td>\n",
       "    </tr>\n",
       "    <tr>\n",
       "      <th>5</th>\n",
       "      <td>MWM</td>\n",
       "      <td>MODERN TRANSPORTE AEREO DE CARGA S.A</td>\n",
       "      <td>Viracopos/Campinas International Airport</td>\n",
       "      <td>SBKP</td>\n",
       "      <td>Campinas</td>\n",
       "      <td>São Paulo</td>\n",
       "      <td>Brasília International Airport (Presidente J. ...</td>\n",
       "      <td>SBBR</td>\n",
       "      <td>Brasília</td>\n",
       "      <td>Distrito Federal</td>\n",
       "    </tr>\n",
       "    <tr>\n",
       "      <th>6</th>\n",
       "      <td>OMI</td>\n",
       "      <td>OMNI TÁXI AÉREO S.A.</td>\n",
       "      <td>Santa Maria Airport</td>\n",
       "      <td>SBAR</td>\n",
       "      <td>Santa Barbara County</td>\n",
       "      <td>California</td>\n",
       "      <td>Rio de Janeiro–Galeão International Airport</td>\n",
       "      <td>SBGL</td>\n",
       "      <td>Rio de Janeiro</td>\n",
       "      <td>Rio de Janeiro</td>\n",
       "    </tr>\n",
       "    <tr>\n",
       "      <th>7</th>\n",
       "      <td>PTB</td>\n",
       "      <td>PASSAREDO TRANSPORTES AÉREOS S.A.</td>\n",
       "      <td>Porto Seguro Airport</td>\n",
       "      <td>SBPS</td>\n",
       "      <td>Porto Seguro</td>\n",
       "      <td>Bahia</td>\n",
       "      <td>Deputado Luís Eduardo Magalhães International ...</td>\n",
       "      <td>SBSV</td>\n",
       "      <td>Salvador</td>\n",
       "      <td>Bahia</td>\n",
       "    </tr>\n",
       "    <tr>\n",
       "      <th>8</th>\n",
       "      <td>SID</td>\n",
       "      <td>SIDERAL LINHAS AÉREAS LTDA.</td>\n",
       "      <td>São Paulo–Guarulhos International Airport</td>\n",
       "      <td>SBGR</td>\n",
       "      <td>Guarulhos</td>\n",
       "      <td>São Paulo</td>\n",
       "      <td>Recife/Guararapes–Gilberto Freyre Internationa...</td>\n",
       "      <td>SBRF</td>\n",
       "      <td>Recife</td>\n",
       "      <td>Pernambuco</td>\n",
       "    </tr>\n",
       "    <tr>\n",
       "      <th>9</th>\n",
       "      <td>SUL</td>\n",
       "      <td>ASTA LINHAS AÉREAS LTDA ( EX - AMÉRICA DO SUL ...</td>\n",
       "      <td>Marechal Rondon International Airport</td>\n",
       "      <td>SBCY</td>\n",
       "      <td>Várzea Grande</td>\n",
       "      <td>Mato Grosso</td>\n",
       "      <td>Juína Airport</td>\n",
       "      <td>SWJN</td>\n",
       "      <td>Juína</td>\n",
       "      <td>State of Mato Grosso</td>\n",
       "    </tr>\n",
       "    <tr>\n",
       "      <th>10</th>\n",
       "      <td>TAM</td>\n",
       "      <td>TAM LINHAS AÉREAS S.A.</td>\n",
       "      <td>São Paulo–Congonhas Airport</td>\n",
       "      <td>SBSP</td>\n",
       "      <td>São Paulo</td>\n",
       "      <td>São Paulo</td>\n",
       "      <td>Santos Dumont Airport</td>\n",
       "      <td>SBRJ</td>\n",
       "      <td>Rio de Janeiro</td>\n",
       "      <td>Rio de Janeiro</td>\n",
       "    </tr>\n",
       "    <tr>\n",
       "      <th>11</th>\n",
       "      <td>TTL</td>\n",
       "      <td>TOTAL LINHAS AÉREAS S.A.</td>\n",
       "      <td>Afonso Pena International Airport</td>\n",
       "      <td>SBCT</td>\n",
       "      <td>São José dos Pinhais</td>\n",
       "      <td>Paraná</td>\n",
       "      <td>São Paulo–Guarulhos International Airport</td>\n",
       "      <td>SBGR</td>\n",
       "      <td>Guarulhos</td>\n",
       "      <td>São Paulo</td>\n",
       "    </tr>\n",
       "  </tbody>\n",
       "</table>\n",
       "</div>"
      ],
      "text/plain": [
       "   icao_empresa_aerea                             razao_social_companhia  \\\n",
       "0                 ACN        AZUL CONECTA LTDA. (EX TWO TAXI AEREO LTDA)   \n",
       "1                 ASO  AEROSUL TÁXI AÉREO LTDA (EX.: AUSTEN TÁXI AÉRE...   \n",
       "2                 AZU                 AZUL LINHAS AÉREAS BRASILEIRAS S/A   \n",
       "3                 GLO  GOL LINHAS AÉREAS S.A. (EX- VRG LINHAS AÉREAS ...   \n",
       "4                 LTG                 ABSA - AEROLINHAS BRASILEIRAS S.A.   \n",
       "5                 MWM               MODERN TRANSPORTE AEREO DE CARGA S.A   \n",
       "6                 OMI                               OMNI TÁXI AÉREO S.A.   \n",
       "7                 PTB                  PASSAREDO TRANSPORTES AÉREOS S.A.   \n",
       "8                 SID                        SIDERAL LINHAS AÉREAS LTDA.   \n",
       "9                 SUL  ASTA LINHAS AÉREAS LTDA ( EX - AMÉRICA DO SUL ...   \n",
       "10                TAM                             TAM LINHAS AÉREAS S.A.   \n",
       "11                TTL                           TOTAL LINHAS AÉREAS S.A.   \n",
       "\n",
       "                        nome_aeroporto_origem icao_origem  \\\n",
       "0                               Coari Airport        SWKO   \n",
       "1          Hercílio Luz International Airport        SBFL   \n",
       "2    Viracopos/Campinas International Airport        SBKP   \n",
       "3                       Santos Dumont Airport        SBRJ   \n",
       "4        Mariscal Sucre International Airport        SEQM   \n",
       "5    Viracopos/Campinas International Airport        SBKP   \n",
       "6                         Santa Maria Airport        SBAR   \n",
       "7                        Porto Seguro Airport        SBPS   \n",
       "8   São Paulo–Guarulhos International Airport        SBGR   \n",
       "9       Marechal Rondon International Airport        SBCY   \n",
       "10                São Paulo–Congonhas Airport        SBSP   \n",
       "11          Afonso Pena International Airport        SBCT   \n",
       "\n",
       "                      estado_origem          uf_origem  \\\n",
       "0                             Coari  State of Amazonas   \n",
       "1                     Florianópolis     Santa Catarina   \n",
       "2                          Campinas          São Paulo   \n",
       "3                    Rio de Janeiro     Rio de Janeiro   \n",
       "4   Distrito Metropolitano de Quito          Pichincha   \n",
       "5                          Campinas          São Paulo   \n",
       "6              Santa Barbara County         California   \n",
       "7                      Porto Seguro              Bahia   \n",
       "8                         Guarulhos          São Paulo   \n",
       "9                     Várzea Grande        Mato Grosso   \n",
       "10                        São Paulo          São Paulo   \n",
       "11             São José dos Pinhais             Paraná   \n",
       "\n",
       "                               nome_aeroporto_destino icao_destino  \\\n",
       "0                 Eduardo Gomes International Airport         SBEG   \n",
       "1                                     Caçador Airport         SBCD   \n",
       "2                               Santos Dumont Airport         SBRJ   \n",
       "3                         São Paulo–Congonhas Airport         SBSP   \n",
       "4                         Miami International Airport         KMIA   \n",
       "5   Brasília International Airport (Presidente J. ...         SBBR   \n",
       "6         Rio de Janeiro–Galeão International Airport         SBGL   \n",
       "7   Deputado Luís Eduardo Magalhães International ...         SBSV   \n",
       "8   Recife/Guararapes–Gilberto Freyre Internationa...         SBRF   \n",
       "9                                       Juína Airport         SWJN   \n",
       "10                              Santos Dumont Airport         SBRJ   \n",
       "11          São Paulo–Guarulhos International Airport         SBGR   \n",
       "\n",
       "       estado_destino            uf_destino  \n",
       "0              Manaus              Amazonas  \n",
       "1             Caçador        Santa Catarina  \n",
       "2      Rio de Janeiro        Rio de Janeiro  \n",
       "3           São Paulo             São Paulo  \n",
       "4   Miami-Dade County               Florida  \n",
       "5            Brasília      Distrito Federal  \n",
       "6      Rio de Janeiro        Rio de Janeiro  \n",
       "7            Salvador                 Bahia  \n",
       "8              Recife            Pernambuco  \n",
       "9               Juína  State of Mato Grosso  \n",
       "10     Rio de Janeiro        Rio de Janeiro  \n",
       "11          Guarulhos             São Paulo  "
      ]
     },
     "execution_count": 155,
     "metadata": {},
     "output_type": "execute_result"
    }
   ],
   "source": [
    "rotas_mais_utilizadas_info"
   ]
  },
  {
   "cell_type": "markdown",
   "id": "0a906c01",
   "metadata": {},
   "source": [
    "## Criar as seguintes views (Priorize o uso de SQL para esta parte):\n",
    "Para cada aeroporto trazer a companhia aérea com maior atuação no ano com as seguintes informações:\n",
    "- Nome do Aeroporto\n",
    "- ICAO do Aeroporto\n",
    "- Razão social da Companhia Aérea\n",
    "- Quantidade de Rotas à partir daquele aeroporto\n",
    "- Quantidade de Rotas com destino àquele aeroporto\n",
    "- Quantidade total de pousos e decolagens naquele aeroporto"
   ]
  },
  {
   "cell_type": "code",
   "execution_count": null,
   "id": "a9034542",
   "metadata": {},
   "outputs": [],
   "source": [
    "query = \"\"\"\n",
    "WITH AeroportosMaisFrequentes AS (\n",
    "    SELECT\n",
    "        a.icao AS ICAO_Aeroporto,\n",
    "        v.icao_empresa_aerea AS ICAO_Empresa,\n",
    "        ROW_NUMBER() OVER (PARTITION BY a.icao ORDER BY COUNT(*) DESC) AS rn\n",
    "    FROM\n",
    "        aerodromos_df a\n",
    "    JOIN\n",
    "        vra_df v ON a.icao = v.icao_aeroporto\n",
    "    GROUP BY\n",
    "        a.icao, v.icao_empresa_aerea\n",
    ")\n",
    "\n",
    "SELECT\n",
    "    ICAO_Aeroporto,\n",
    "    ICAO_Empresa\n",
    "FROM\n",
    "    AeroportosMaisFrequentes\n",
    "WHERE\n",
    "    rn = 1;\n",
    "\"\"\"\n",
    "\n",
    "sqldf(query)"
   ]
  },
  {
   "cell_type": "code",
   "execution_count": null,
   "id": "b2b902a2",
   "metadata": {},
   "outputs": [],
   "source": []
  }
 ],
 "metadata": {
  "kernelspec": {
   "display_name": "Python 3 (ipykernel)",
   "language": "python",
   "name": "python3"
  },
  "language_info": {
   "codemirror_mode": {
    "name": "ipython",
    "version": 3
   },
   "file_extension": ".py",
   "mimetype": "text/x-python",
   "name": "python",
   "nbconvert_exporter": "python",
   "pygments_lexer": "ipython3",
   "version": "3.11.6"
  }
 },
 "nbformat": 4,
 "nbformat_minor": 5
}
