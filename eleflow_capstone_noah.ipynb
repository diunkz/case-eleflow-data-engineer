{
 "cells": [
  {
   "cell_type": "markdown",
   "id": "95d1536e",
   "metadata": {},
   "source": [
    "# Data engineering capstone - Eleflow"
   ]
  },
  {
   "cell_type": "markdown",
   "id": "783bbdb8",
   "metadata": {},
   "source": [
    "#### Instalando dependências"
   ]
  },
  {
   "cell_type": "code",
   "execution_count": 3,
   "id": "be605d48",
   "metadata": {
    "scrolled": true
   },
   "outputs": [
    {
     "name": "stdout",
     "output_type": "stream",
     "text": [
      "Requirement already satisfied: pandas in ./venv/lib/python3.11/site-packages (2.1.1)\n",
      "Collecting requests\n",
      "  Obtaining dependency information for requests from https://files.pythonhosted.org/packages/70/8e/0e2d847013cb52cd35b38c009bb167a1a26b2ce6cd6965bf26b47bc0bf44/requests-2.31.0-py3-none-any.whl.metadata\n",
      "  Downloading requests-2.31.0-py3-none-any.whl.metadata (4.6 kB)\n",
      "Requirement already satisfied: numpy>=1.23.2 in ./venv/lib/python3.11/site-packages (from pandas) (1.26.1)\n",
      "Requirement already satisfied: python-dateutil>=2.8.2 in ./venv/lib/python3.11/site-packages (from pandas) (2.8.2)\n",
      "Requirement already satisfied: pytz>=2020.1 in ./venv/lib/python3.11/site-packages (from pandas) (2023.3.post1)\n",
      "Requirement already satisfied: tzdata>=2022.1 in ./venv/lib/python3.11/site-packages (from pandas) (2023.3)\n",
      "Collecting charset-normalizer<4,>=2 (from requests)\n",
      "  Obtaining dependency information for charset-normalizer<4,>=2 from https://files.pythonhosted.org/packages/ae/e5/8c290f1dd50aae55d1ec20420a6df3c051d6f5ad78ee5b88b1a7ef26634b/charset_normalizer-3.3.1-cp311-cp311-manylinux_2_17_x86_64.manylinux2014_x86_64.whl.metadata\n",
      "  Downloading charset_normalizer-3.3.1-cp311-cp311-manylinux_2_17_x86_64.manylinux2014_x86_64.whl.metadata (33 kB)\n",
      "Collecting idna<4,>=2.5 (from requests)\n",
      "  Downloading idna-3.4-py3-none-any.whl (61 kB)\n",
      "\u001b[2K     \u001b[38;2;114;156;31m━━━━━━━━━━━━━━━━━━━━━━━━━━━━━━━━━━━━━━━━\u001b[0m \u001b[32m61.5/61.5 kB\u001b[0m \u001b[31m2.0 MB/s\u001b[0m eta \u001b[36m0:00:00\u001b[0m\n",
      "\u001b[?25hCollecting urllib3<3,>=1.21.1 (from requests)\n",
      "  Obtaining dependency information for urllib3<3,>=1.21.1 from https://files.pythonhosted.org/packages/d2/b2/b157855192a68541a91ba7b2bbcb91f1b4faa51f8bae38d8005c034be524/urllib3-2.0.7-py3-none-any.whl.metadata\n",
      "  Downloading urllib3-2.0.7-py3-none-any.whl.metadata (6.6 kB)\n",
      "Collecting certifi>=2017.4.17 (from requests)\n",
      "  Obtaining dependency information for certifi>=2017.4.17 from https://files.pythonhosted.org/packages/4c/dd/2234eab22353ffc7d94e8d13177aaa050113286e93e7b40eae01fbf7c3d9/certifi-2023.7.22-py3-none-any.whl.metadata\n",
      "  Downloading certifi-2023.7.22-py3-none-any.whl.metadata (2.2 kB)\n",
      "Requirement already satisfied: six>=1.5 in ./venv/lib/python3.11/site-packages (from python-dateutil>=2.8.2->pandas) (1.16.0)\n",
      "Downloading requests-2.31.0-py3-none-any.whl (62 kB)\n",
      "\u001b[2K   \u001b[38;2;114;156;31m━━━━━━━━━━━━━━━━━━━━━━━━━━━━━━━━━━━━━━━━\u001b[0m \u001b[32m62.6/62.6 kB\u001b[0m \u001b[31m3.5 MB/s\u001b[0m eta \u001b[36m0:00:00\u001b[0m\n",
      "\u001b[?25hDownloading certifi-2023.7.22-py3-none-any.whl (158 kB)\n",
      "\u001b[2K   \u001b[38;2;114;156;31m━━━━━━━━━━━━━━━━━━━━━━━━━━━━━━━━━━━━━━━━\u001b[0m \u001b[32m158.3/158.3 kB\u001b[0m \u001b[31m2.0 MB/s\u001b[0m eta \u001b[36m0:00:00\u001b[0m MB/s\u001b[0m eta \u001b[36m0:00:01\u001b[0m\n",
      "\u001b[?25hDownloading charset_normalizer-3.3.1-cp311-cp311-manylinux_2_17_x86_64.manylinux2014_x86_64.whl (137 kB)\n",
      "\u001b[2K   \u001b[38;2;114;156;31m━━━━━━━━━━━━━━━━━━━━━━━━━━━━━━━━━━━━━━━━\u001b[0m \u001b[32m137.5/137.5 kB\u001b[0m \u001b[31m8.6 MB/s\u001b[0m eta \u001b[36m0:00:00\u001b[0m\n",
      "\u001b[?25hDownloading urllib3-2.0.7-py3-none-any.whl (124 kB)\n",
      "\u001b[2K   \u001b[38;2;114;156;31m━━━━━━━━━━━━━━━━━━━━━━━━━━━━━━━━━━━━━━━━\u001b[0m \u001b[32m124.2/124.2 kB\u001b[0m \u001b[31m8.3 MB/s\u001b[0m eta \u001b[36m0:00:00\u001b[0m\n",
      "\u001b[?25hInstalling collected packages: urllib3, idna, charset-normalizer, certifi, requests\n",
      "Successfully installed certifi-2023.7.22 charset-normalizer-3.3.1 idna-3.4 requests-2.31.0 urllib3-2.0.7\n"
     ]
    }
   ],
   "source": [
    "!pip install pandas requests"
   ]
  },
  {
   "cell_type": "markdown",
   "id": "f848f1a8",
   "metadata": {},
   "source": [
    "#### imports necessários"
   ]
  },
  {
   "cell_type": "code",
   "execution_count": 46,
   "id": "0cc3f223",
   "metadata": {},
   "outputs": [],
   "source": [
    "import os\n",
    "import json\n",
    "import pandas as pd"
   ]
  },
  {
   "cell_type": "markdown",
   "id": "87d6d85c",
   "metadata": {},
   "source": [
    "## Carregar os dados de VRA\n",
    "- Normalizar o cabeçalho para snake case\n",
    "- Salvar estes dados"
   ]
  },
  {
   "cell_type": "code",
   "execution_count": 47,
   "id": "afb11ebd",
   "metadata": {},
   "outputs": [],
   "source": [
    "# Função para percorrer o diretório, pegar todos os arquivos e carregar as informações\n",
    "def ler_jsons(diretorio):\n",
    "    arquivos_json = [arquivo for arquivo in os.listdir(diretorio) if arquivo.endswith('.json')]\n",
    "\n",
    "    for nome_arquivo in arquivos_json:\n",
    "        caminho_arquivo = os.path.join(diretorio, nome_arquivo)\n",
    "        with open(caminho_arquivo, 'r', encoding='utf-8-sig') as arquivo:\n",
    "            yield json.load(arquivo)"
   ]
  },
  {
   "cell_type": "code",
   "execution_count": 48,
   "id": "4d232fc1",
   "metadata": {},
   "outputs": [],
   "source": [
    "# Nome das colunas em snake_case\n",
    "nomes_colunas_vra = ['icao_empresa_aerea', 'numero_voo', 'codigo_autorizacao', 'codigo_tipo_linha',\n",
    "                     'icao_aerodromo_origem', 'icao_aerodromo_destino', 'partida_prevista',\n",
    "                     'partida_real', 'chegada_prevista', 'chegada_real', 'situacao_voo', 'codigo_justificativa']\n"
   ]
  },
  {
   "cell_type": "code",
   "execution_count": 49,
   "id": "51705eb3",
   "metadata": {},
   "outputs": [],
   "source": [
    "# Diretório onde estão os arquivos JSON\n",
    "diretorio_vra = './data_engineer_test/VRA'"
   ]
  },
  {
   "cell_type": "code",
   "execution_count": 50,
   "id": "86954238",
   "metadata": {},
   "outputs": [],
   "source": [
    "# Criar um gerador\n",
    "vra_generator = ler_jsons(diretorio_vra)"
   ]
  },
  {
   "cell_type": "code",
   "execution_count": 51,
   "id": "a933f3e8",
   "metadata": {},
   "outputs": [],
   "source": [
    "# Criação do dataframe com os dados de vra\n",
    "vra_df = pd.DataFrame()"
   ]
  },
  {
   "cell_type": "code",
   "execution_count": 52,
   "id": "5bc1af2b",
   "metadata": {},
   "outputs": [],
   "source": [
    "# Adicionando informações de cada arquivo JSON no dataframe\n",
    "for lista_de_dicts in vra_generator:\n",
    "    vra_df = vra_df._append(lista_de_dicts, ignore_index=True)"
   ]
  },
  {
   "cell_type": "code",
   "execution_count": 53,
   "id": "4127844c",
   "metadata": {},
   "outputs": [],
   "source": [
    "# Modificando nome das colunas do dataframe VRA\n",
    "vra_df.columns = nomes_colunas_vra"
   ]
  },
  {
   "cell_type": "code",
   "execution_count": 54,
   "id": "db4a5e8f",
   "metadata": {},
   "outputs": [
    {
     "name": "stdout",
     "output_type": "stream",
     "text": [
      "  icao_empresa_aerea numero_voo codigo_autorizacao codigo_tipo_linha  \\\n",
      "0                AZU       4478                  0                 N   \n",
      "1                AZU       4479                  0                 N   \n",
      "2                AZU       4479                  0                 N   \n",
      "3                AZU       4479                  0                 N   \n",
      "4                AZU       4479                  0                 N   \n",
      "\n",
      "  icao_aerodromo_origem icao_aerodromo_destino     partida_prevista  \\\n",
      "0                  SBRJ                   SBGO  2021-06-30 22:15:00   \n",
      "1                  SBGO                   SBRJ  2021-06-07 06:20:00   \n",
      "2                  SBGO                   SBRJ  2021-06-08 06:20:00   \n",
      "3                  SBGO                   SBRJ  2021-06-09 06:20:00   \n",
      "4                  SBGO                   SBRJ  2021-06-10 06:20:00   \n",
      "\n",
      "          partida_real     chegada_prevista         chegada_real situacao_voo  \\\n",
      "0  2021-06-30 22:00:00  2021-06-30 23:55:00  2021-06-30 23:56:00    REALIZADO   \n",
      "1  2021-06-07 06:14:00  2021-06-07 08:00:00  2021-06-07 07:47:00    REALIZADO   \n",
      "2  2021-06-08 06:13:00  2021-06-08 08:00:00  2021-06-08 07:48:00    REALIZADO   \n",
      "3  2021-06-09 06:10:00  2021-06-09 08:00:00  2021-06-09 07:55:00    REALIZADO   \n",
      "4  2021-06-10 06:13:00  2021-06-10 08:00:00  2021-06-10 07:53:00    REALIZADO   \n",
      "\n",
      "  codigo_justificativa  \n",
      "0                  N/A  \n",
      "1                  N/A  \n",
      "2                  N/A  \n",
      "3                  N/A  \n",
      "4                  N/A  \n"
     ]
    }
   ],
   "source": [
    "print(vra_df.head(5))"
   ]
  },
  {
   "cell_type": "markdown",
   "id": "accd7dbe",
   "metadata": {},
   "source": [
    "## Carregar dos dados de AIR_CIA\n",
    "- Normalizar o cabeçalho para snake case\n",
    "- Separar a coluna 'ICAO IATA' em duas colunas, seu conteúdo está separado por espaço e pode não conter o código IATA, caso não contenha o código IATA, deixe o valor nulo.\n",
    "- Salvar estes dados"
   ]
  },
  {
   "cell_type": "code",
   "execution_count": 63,
   "id": "1a4f6b01",
   "metadata": {},
   "outputs": [],
   "source": [
    "# Diretório onde estão os arquivos CSV\n",
    "diretorio_air_cia = './data_engineer_test/AIR_CIA/'"
   ]
  },
  {
   "cell_type": "code",
   "execution_count": 64,
   "id": "b6e81fe7",
   "metadata": {},
   "outputs": [],
   "source": [
    "# Normalizando as colunas para snake_case\n",
    "nomes_colunas_air_cia = ['razao_social', 'icao_iata', 'cnpj', 'atividades_aereas',\n",
    "                         'endereco_sede', 'telefone', 'email', 'decisao_operacional', \n",
    "                         'data_decisao_operacional', 'validade_operacional']"
   ]
  },
  {
   "cell_type": "code",
   "execution_count": 65,
   "id": "42dd5294",
   "metadata": {},
   "outputs": [],
   "source": [
    "# Inicializa um DataFrame vazio para armazenar os dados\n",
    "df_air_cia = pd.DataFrame()"
   ]
  },
  {
   "cell_type": "code",
   "execution_count": 66,
   "id": "2faff2d8",
   "metadata": {},
   "outputs": [],
   "source": [
    "# Liste todos os arquivos CSV na pasta\n",
    "for filename in os.listdir(diretorio_air_cia):\n",
    "    if filename.endswith(\".csv\"):\n",
    "        # Crie o caminho completo para o arquivo\n",
    "        arquivo = os.path.join(diretorio_air_cia, filename)\n",
    "        \n",
    "        # Leia o arquivo CSV e adicione os dados ao DataFrame total\n",
    "        df = pd.read_csv(arquivo, sep=';')\n",
    "        df_air_cia = pd.concat([df_air_cia, df], ignore_index=True)"
   ]
  },
  {
   "cell_type": "code",
   "execution_count": 67,
   "id": "4e2854b7",
   "metadata": {},
   "outputs": [],
   "source": [
    "# Modificando nome das colunas do dataframe AIR_CIA\n",
    "df_air_cia.columns = nomes_colunas_air_cia\n"
   ]
  },
  {
   "cell_type": "code",
   "execution_count": 68,
   "id": "d1399a09",
   "metadata": {},
   "outputs": [],
   "source": [
    "# separando os valores pelo espaço em icao_iata e colocando nas novas colunas: icao e iata\n",
    "df_air_cia[['icao', 'iata']] = df_air_cia['icao_iata'].str.split(n=1, expand=True)"
   ]
  },
  {
   "cell_type": "code",
   "execution_count": 69,
   "id": "546c9722",
   "metadata": {},
   "outputs": [],
   "source": [
    "# Removendo icao_iata e deixando as novas colunas na mesma posição que ela estava \n",
    "posicao_icao_iata = nomes_colunas_air_cia.index('icao_iata')\n",
    "nomes_colunas_air_cia.pop(posicao_icao_iata)\n",
    "nomes_colunas_air_cia.insert(posicao_icao_iata, 'icao')\n",
    "nomes_colunas_air_cia.insert(posicao_icao_iata + 1, 'iata')\n",
    "df_air_cia = df_air_cia[nomes_colunas_air_cia]"
   ]
  },
  {
   "cell_type": "code",
   "execution_count": 70,
   "id": "b064f2ca",
   "metadata": {},
   "outputs": [
    {
     "name": "stdout",
     "output_type": "stream",
     "text": [
      "                                        razao_social icao  iata  \\\n",
      "0  AEROSUL TÁXI AÉREO LTDA (EX.: AUSTEN TÁXI AÉRE...  ASO    2S   \n",
      "1                        ATA - AEROTÁXI ABAETÉ LTDA.  ABJ  None   \n",
      "2                               OMNI TÁXI AÉREO S.A.  OMI    O1   \n",
      "3                                PRIME TÁXI AIR LTDA  NaN   NaN   \n",
      "4                        SIDERAL LINHAS AÉREAS LTDA.  SID    0S   \n",
      "\n",
      "                 cnpj                                  atividades_aereas  \\\n",
      "0  27.315.694/0001-02  SERVIÇOS AÉREOS PÚBLICOS, TÁXI-AÉREO, TRANSPOR...   \n",
      "1  14.674.451/0001-19  TÁXI-AÉREO, TRANSPORTE AÉREO NÃO REGULAR, TRAN...   \n",
      "2  03.670.763/0001-38  AEROFOTOGRAFIA, AEROINSPEÇÃO, SERVIÇOS AÉREOS ...   \n",
      "3  23.568.370/0001-25  TÁXI-AÉREO, TRANSPORTE AÉREO NÃO REGULAR, SERV...   \n",
      "4  10.919.908/0001-57  TRANSPORTE AÉREO NÃO REGULAR, TRANSPORTE AÉREO...   \n",
      "\n",
      "                                       endereco_sede  \\\n",
      "0  RODOVIA PR 218, KM 7, JARDIM UNIVERSITÁRIO, AE...   \n",
      "1   PÇA. GAGO COUTINHO, S/N, AEROPORTO INTERNACIO...   \n",
      "2  AV. AYRTON SENNA, 2541 RUA F1 LOTE 40 - AEROPO...   \n",
      "3  AL. RIO NEGRO, 585 - BLOCO A - CJ.95 - SALA E,...   \n",
      "4  RODOVIA CONTORNO LESTE BR-116, Nº 9.119, 3º AN...   \n",
      "\n",
      "                          telefone                                email  \\\n",
      "0                   (43) 3176-4030             operacoes@aerosul.com.br   \n",
      "1   (71) 34629600 / (71) 996643563         guilherme@abaete.com.br        \n",
      "2                  (61) 98335-3444           lira@plfconsultoria.com.br   \n",
      "3    (11) 41958307 / (11) 41958308      mmatta@primefractionclub.com.br   \n",
      "4  (41) 3116-9000 / (41) 3116-9059  office@siderallinhasaereas.com.br     \n",
      "\n",
      "  decisao_operacional data_decisao_operacional validade_operacional  \n",
      "0      DECISÃO Nº 282               10/02/2021                  NaN  \n",
      "1       DECISÃO Nº 36               05/03/2020                  NaN  \n",
      "2      DECISÃO Nº 100               10/07/2019           12/07/2024  \n",
      "3      DECISÃO Nº 237               17/12/2020           18/12/2025  \n",
      "4       DECISÃO Nº 37               05/03/2020           06/03/2025  \n"
     ]
    }
   ],
   "source": [
    "print(df_air_cia.head(5))"
   ]
  },
  {
   "cell_type": "markdown",
   "id": "fac9961d",
   "metadata": {},
   "source": [
    "## Criar nova tabela aerodromos\n",
    "- Através da API https://rapidapi.com/Active-api/api/airport-info/ trazer os aeródramos através do código ICAO presente nos dados de VRA.\n",
    "- Salvar estes dados\n"
   ]
  },
  {
   "cell_type": "code",
   "execution_count": null,
   "id": "8df5372c",
   "metadata": {},
   "outputs": [],
   "source": []
  }
 ],
 "metadata": {
  "kernelspec": {
   "display_name": "Python 3 (ipykernel)",
   "language": "python",
   "name": "python3"
  },
  "language_info": {
   "codemirror_mode": {
    "name": "ipython",
    "version": 3
   },
   "file_extension": ".py",
   "mimetype": "text/x-python",
   "name": "python",
   "nbconvert_exporter": "python",
   "pygments_lexer": "ipython3",
   "version": "3.11.6"
  }
 },
 "nbformat": 4,
 "nbformat_minor": 5
}
